{
 "cells": [
  {
   "cell_type": "markdown",
   "metadata": {},
   "source": [
    "# Chess Game - AI Test Project\n",
    "\n",
    "This notebook will be a playground to build a self-learning artificial intelligent (AI) agent to play the game of chess, and eventually beat its creator(s).  A simple reinforment learning approach will be explored\n",
    "\n",
    "PyPi: https://pypi.python.org/pypi/python-chess\n",
    "\n",
    "Docs: https://python-chess.readthedocs.io/en/v0.17.0/"
   ]
  },
  {
   "cell_type": "code",
   "execution_count": 1,
   "metadata": {
    "collapsed": false
   },
   "outputs": [],
   "source": [
    "import chess\n",
    "import random\n",
    "import time\n",
    "\n",
    "import pandas as pd"
   ]
  },
  {
   "cell_type": "markdown",
   "metadata": {},
   "source": [
    "## Show a simple ASCII board\n",
    "\n",
    "Notice the lower case and upper case chars to represent the various sides of the game"
   ]
  },
  {
   "cell_type": "code",
   "execution_count": 2,
   "metadata": {
    "collapsed": true
   },
   "outputs": [],
   "source": [
    "board = chess.Board()"
   ]
  },
  {
   "cell_type": "code",
   "execution_count": 3,
   "metadata": {
    "collapsed": false
   },
   "outputs": [
    {
     "name": "stdout",
     "output_type": "stream",
     "text": [
      "r n b q k b n r\n",
      "p p p p p p p p\n",
      ". . . . . . . .\n",
      ". . . . . . . .\n",
      ". . . . . . . .\n",
      ". . . . . . . .\n",
      "P P P P P P P P\n",
      "R N B Q K B N R\n"
     ]
    }
   ],
   "source": [
    "print(board)"
   ]
  },
  {
   "cell_type": "markdown",
   "metadata": {},
   "source": [
    "## Show a simple UI board"
   ]
  },
  {
   "cell_type": "code",
   "execution_count": 4,
   "metadata": {
    "collapsed": false
   },
   "outputs": [
    {
     "data": {
      "image/svg+xml": [
       "<svg xmlns=\"http://www.w3.org/2000/svg\" version=\"1.1\" xmlns:xlink=\"http://www.w3.org/1999/xlink\" width=\"400\" height=\"400\"><style>.check {\n",
       "  fill: url(#check_gradient);\n",
       "}\n",
       "</style><defs><g id=\"black-queen\" class=\"black queen\" fill=\"#000\" fill-rule=\"evenodd\" stroke=\"#000\" stroke-width=\"1.5\" stroke-linecap=\"round\" stroke-linejoin=\"round\"><g fill=\"#000\" stroke=\"none\"><circle cx=\"6\" cy=\"12\" r=\"2.75\"/><circle cx=\"14\" cy=\"9\" r=\"2.75\"/><circle cx=\"22.5\" cy=\"8\" r=\"2.75\"/><circle cx=\"31\" cy=\"9\" r=\"2.75\"/><circle cx=\"39\" cy=\"12\" r=\"2.75\"/></g><path d=\"M9 26c8.5-1.5 21-1.5 27 0l2.5-12.5L31 25l-.3-14.1-5.2 13.6-3-14.5-3 14.5-5.2-13.6L14 25 6.5 13.5 9 26zM9 26c0 2 1.5 2 2.5 4 1 1.5 1 1 .5 3.5-1.5 1-1.5 2.5-1.5 2.5-1.5 1.5.5 2.5.5 2.5 6.5 1 16.5 1 23 0 0 0 1.5-1 0-2.5 0 0 .5-1.5-1-2.5-.5-2.5-.5-2 .5-3.5 1-2 2.5-2 2.5-4-8.5-1.5-18.5-1.5-27 0z\" stroke-linecap=\"butt\"/><path d=\"M11 38.5a35 35 1 0 0 23 0\" fill=\"none\" stroke-linecap=\"butt\"/><path d=\"M11 29a35 35 1 0 1 23 0M12.5 31.5h20M11.5 34.5a35 35 1 0 0 22 0M10.5 37.5a35 35 1 0 0 24 0\" fill=\"none\" stroke=\"#fff\"/></g><g id=\"black-knight\" class=\"black knight\" fill=\"none\" fill-rule=\"evenodd\" stroke=\"#000\" stroke-width=\"1.5\" stroke-linecap=\"round\" stroke-linejoin=\"round\"><path d=\"M 22,10 C 32.5,11 38.5,18 38,39 L 15,39 C 15,30 25,32.5 23,18\" style=\"fill:#000000; stroke:#000000;\"/><path d=\"M 24,18 C 24.38,20.91 18.45,25.37 16,27 C 13,29 13.18,31.34 11,31 C 9.958,30.06 12.41,27.96 11,28 C 10,28 11.19,29.23 10,30 C 9,30 5.997,31 6,26 C 6,24 12,14 12,14 C 12,14 13.89,12.1 14,10.5 C 13.27,9.506 13.5,8.5 13.5,7.5 C 14.5,6.5 16.5,10 16.5,10 L 18.5,10 C 18.5,10 19.28,8.008 21,7 C 22,7 22,10 22,10\" style=\"fill:#000000; stroke:#000000;\"/><path d=\"M 9.5 25.5 A 0.5 0.5 0 1 1 8.5,25.5 A 0.5 0.5 0 1 1 9.5 25.5 z\" style=\"fill:#ececec; stroke:#ececec;\"/><path d=\"M 15 15.5 A 0.5 1.5 0 1 1 14,15.5 A 0.5 1.5 0 1 1 15 15.5 z\" transform=\"matrix(0.866,0.5,-0.5,0.866,9.693,-5.173)\" style=\"fill:#ececec; stroke:#ececec;\"/><path d=\"M 24.55,10.4 L 24.1,11.85 L 24.6,12 C 27.75,13 30.25,14.49 32.5,18.75 C 34.75,23.01 35.75,29.06 35.25,39 L 35.2,39.5 L 37.45,39.5 L 37.5,39 C 38,28.94 36.62,22.15 34.25,17.66 C 31.88,13.17 28.46,11.02 25.06,10.5 L 24.55,10.4 z \" style=\"fill:#ececec; stroke:none;\"/></g><g id=\"white-rook\" class=\"white rook\" fill=\"#fff\" fill-rule=\"evenodd\" stroke=\"#000\" stroke-width=\"1.5\" stroke-linecap=\"round\" stroke-linejoin=\"round\"><path d=\"M9 39h27v-3H9v3zM12 36v-4h21v4H12zM11 14V9h4v2h5V9h5v2h5V9h4v5\" stroke-linecap=\"butt\"/><path d=\"M34 14l-3 3H14l-3-3\"/><path d=\"M31 17v12.5H14V17\" stroke-linecap=\"butt\" stroke-linejoin=\"miter\"/><path d=\"M31 29.5l1.5 2.5h-20l1.5-2.5\"/><path d=\"M11 14h23\" fill=\"none\" stroke-linejoin=\"miter\"/></g><g id=\"white-bishop\" class=\"white bishop\" fill=\"none\" fill-rule=\"evenodd\" stroke=\"#000\" stroke-width=\"1.5\" stroke-linecap=\"round\" stroke-linejoin=\"round\"><g fill=\"#fff\" stroke-linecap=\"butt\"><path d=\"M9 36c3.39-.97 10.11.43 13.5-2 3.39 2.43 10.11 1.03 13.5 2 0 0 1.65.54 3 2-.68.97-1.65.99-3 .5-3.39-.97-10.11.46-13.5-1-3.39 1.46-10.11.03-13.5 1-1.354.49-2.323.47-3-.5 1.354-1.94 3-2 3-2zM15 32c2.5 2.5 12.5 2.5 15 0 .5-1.5 0-2 0-2 0-2.5-2.5-4-2.5-4 5.5-1.5 6-11.5-5-15.5-11 4-10.5 14-5 15.5 0 0-2.5 1.5-2.5 4 0 0-.5.5 0 2zM25 8a2.5 2.5 0 1 1-5 0 2.5 2.5 0 1 1 5 0z\"/></g><path d=\"M17.5 26h10M15 30h15m-7.5-14.5v5M20 18h5\" stroke-linejoin=\"miter\"/></g><g id=\"black-rook\" class=\"black rook\" fill=\"#000\" fill-rule=\"evenodd\" stroke=\"#000\" stroke-width=\"1.5\" stroke-linecap=\"round\" stroke-linejoin=\"round\"><path d=\"M9 39h27v-3H9v3zM12.5 32l1.5-2.5h17l1.5 2.5h-20zM12 36v-4h21v4H12z\" stroke-linecap=\"butt\"/><path d=\"M14 29.5v-13h17v13H14z\" stroke-linecap=\"butt\" stroke-linejoin=\"miter\"/><path d=\"M14 16.5L11 14h23l-3 2.5H14zM11 14V9h4v2h5V9h5v2h5V9h4v5H11z\" stroke-linecap=\"butt\"/><path d=\"M12 35.5h21M13 31.5h19M14 29.5h17M14 16.5h17M11 14h23\" fill=\"none\" stroke=\"#fff\" stroke-width=\"1\" stroke-linejoin=\"miter\"/></g><g id=\"white-queen\" class=\"white queen\" fill=\"#fff\" fill-rule=\"evenodd\" stroke=\"#000\" stroke-width=\"1.5\" stroke-linecap=\"round\" stroke-linejoin=\"round\"><path d=\"M8 12a2 2 0 1 1-4 0 2 2 0 1 1 4 0zM24.5 7.5a2 2 0 1 1-4 0 2 2 0 1 1 4 0zM41 12a2 2 0 1 1-4 0 2 2 0 1 1 4 0zM16 8.5a2 2 0 1 1-4 0 2 2 0 1 1 4 0zM33 9a2 2 0 1 1-4 0 2 2 0 1 1 4 0z\"/><path d=\"M9 26c8.5-1.5 21-1.5 27 0l2-12-7 11V11l-5.5 13.5-3-15-3 15-5.5-14V25L7 14l2 12zM9 26c0 2 1.5 2 2.5 4 1 1.5 1 1 .5 3.5-1.5 1-1.5 2.5-1.5 2.5-1.5 1.5.5 2.5.5 2.5 6.5 1 16.5 1 23 0 0 0 1.5-1 0-2.5 0 0 .5-1.5-1-2.5-.5-2.5-.5-2 .5-3.5 1-2 2.5-2 2.5-4-8.5-1.5-18.5-1.5-27 0z\" stroke-linecap=\"butt\"/><path d=\"M11.5 30c3.5-1 18.5-1 22 0M12 33.5c6-1 15-1 21 0\" fill=\"none\"/></g><g id=\"white-knight\" class=\"white knight\" fill=\"none\" fill-rule=\"evenodd\" stroke=\"#000\" stroke-width=\"1.5\" stroke-linecap=\"round\" stroke-linejoin=\"round\"><path d=\"M 22,10 C 32.5,11 38.5,18 38,39 L 15,39 C 15,30 25,32.5 23,18\" style=\"fill:#ffffff; stroke:#000000;\"/><path d=\"M 24,18 C 24.38,20.91 18.45,25.37 16,27 C 13,29 13.18,31.34 11,31 C 9.958,30.06 12.41,27.96 11,28 C 10,28 11.19,29.23 10,30 C 9,30 5.997,31 6,26 C 6,24 12,14 12,14 C 12,14 13.89,12.1 14,10.5 C 13.27,9.506 13.5,8.5 13.5,7.5 C 14.5,6.5 16.5,10 16.5,10 L 18.5,10 C 18.5,10 19.28,8.008 21,7 C 22,7 22,10 22,10\" style=\"fill:#ffffff; stroke:#000000;\"/><path d=\"M 9.5 25.5 A 0.5 0.5 0 1 1 8.5,25.5 A 0.5 0.5 0 1 1 9.5 25.5 z\" style=\"fill:#000000; stroke:#000000;\"/><path d=\"M 15 15.5 A 0.5 1.5 0 1 1 14,15.5 A 0.5 1.5 0 1 1 15 15.5 z\" transform=\"matrix(0.866,0.5,-0.5,0.866,9.693,-5.173)\" style=\"fill:#000000; stroke:#000000;\"/></g><g id=\"white-king\" class=\"white king\" fill=\"none\" fill-rule=\"evenodd\" stroke=\"#000\" stroke-width=\"1.5\" stroke-linecap=\"round\" stroke-linejoin=\"round\"><path d=\"M22.5 11.63V6M20 8h5\" stroke-linejoin=\"miter\"/><path d=\"M22.5 25s4.5-7.5 3-10.5c0 0-1-2.5-3-2.5s-3 2.5-3 2.5c-1.5 3 3 10.5 3 10.5\" fill=\"#fff\" stroke-linecap=\"butt\" stroke-linejoin=\"miter\"/><path d=\"M11.5 37c5.5 3.5 15.5 3.5 21 0v-7s9-4.5 6-10.5c-4-6.5-13.5-3.5-16 4V27v-3.5c-3.5-7.5-13-10.5-16-4-3 6 5 10 5 10V37z\" fill=\"#fff\"/><path d=\"M11.5 30c5.5-3 15.5-3 21 0m-21 3.5c5.5-3 15.5-3 21 0m-21 3.5c5.5-3 15.5-3 21 0\"/></g><g id=\"white-pawn\" class=\"white pawn\"><path d=\"M22 9c-2.21 0-4 1.79-4 4 0 .89.29 1.71.78 2.38-1.95 1.12-3.28 3.21-3.28 5.62 0 2.03.94 3.84 2.41 5.03-3 1.06-7.41 5.55-7.41 13.47h23c0-7.92-4.41-12.41-7.41-13.47 1.47-1.19 2.41-3 2.41-5.03 0-2.41-1.33-4.5-3.28-5.62.49-.67.78-1.49.78-2.38 0-2.21-1.79-4-4-4z\" fill=\"#fff\" stroke=\"#000\" stroke-width=\"1.5\" stroke-linecap=\"round\"/></g><g id=\"black-king\" class=\"black king\" fill=\"none\" fill-rule=\"evenodd\" stroke=\"#000\" stroke-width=\"1.5\" stroke-linecap=\"round\" stroke-linejoin=\"round\"><path d=\"M22.5 11.63V6\" stroke-linejoin=\"miter\"/><path d=\"M22.5 25s4.5-7.5 3-10.5c0 0-1-2.5-3-2.5s-3 2.5-3 2.5c-1.5 3 3 10.5 3 10.5\" fill=\"#000\" stroke-linecap=\"butt\" stroke-linejoin=\"miter\"/><path d=\"M11.5 37c5.5 3.5 15.5 3.5 21 0v-7s9-4.5 6-10.5c-4-6.5-13.5-3.5-16 4V27v-3.5c-3.5-7.5-13-10.5-16-4-3 6 5 10 5 10V37z\" fill=\"#000\"/><path d=\"M20 8h5\" stroke-linejoin=\"miter\"/><path d=\"M32 29.5s8.5-4 6.03-9.65C34.15 14 25 18 22.5 24.5l.01 2.1-.01-2.1C20 18 9.906 14 6.997 19.85c-2.497 5.65 4.853 9 4.853 9M11.5 30c5.5-3 15.5-3 21 0m-21 3.5c5.5-3 15.5-3 21 0m-21 3.5c5.5-3 15.5-3 21 0\" stroke=\"#fff\"/></g><g id=\"black-pawn\" class=\"black pawn\"><path d=\"M22 9c-2.21 0-4 1.79-4 4 0 .89.29 1.71.78 2.38-1.95 1.12-3.28 3.21-3.28 5.62 0 2.03.94 3.84 2.41 5.03-3 1.06-7.41 5.55-7.41 13.47h23c0-7.92-4.41-12.41-7.41-13.47 1.47-1.19 2.41-3 2.41-5.03 0-2.41-1.33-4.5-3.28-5.62.49-.67.78-1.49.78-2.38 0-2.21-1.79-4-4-4z\" stroke=\"#000\" stroke-width=\"1.5\" stroke-linecap=\"round\"/></g><g id=\"black-bishop\" class=\"black bishop\" fill=\"none\" fill-rule=\"evenodd\" stroke=\"#000\" stroke-width=\"1.5\" stroke-linecap=\"round\" stroke-linejoin=\"round\"><path d=\"M9 36c3.39-.97 10.11.43 13.5-2 3.39 2.43 10.11 1.03 13.5 2 0 0 1.65.54 3 2-.68.97-1.65.99-3 .5-3.39-.97-10.11.46-13.5-1-3.39 1.46-10.11.03-13.5 1-1.354.49-2.323.47-3-.5 1.354-1.94 3-2 3-2zm6-4c2.5 2.5 12.5 2.5 15 0 .5-1.5 0-2 0-2 0-2.5-2.5-4-2.5-4 5.5-1.5 6-11.5-5-15.5-11 4-10.5 14-5 15.5 0 0-2.5 1.5-2.5 4 0 0-.5.5 0 2zM25 8a2.5 2.5 0 1 1-5 0 2.5 2.5 0 1 1 5 0z\" fill=\"#000\" stroke-linecap=\"butt\"/><path d=\"M17.5 26h10M15 30h15m-7.5-14.5v5M20 18h5\" stroke=\"#fff\" stroke-linejoin=\"miter\"/></g></defs><rect x=\"20.000000\" y=\"335.000000\" class=\"square dark a1\" width=\"45.000000\" height=\"45.000000\" style=\"stroke: none;\" fill=\"#d18b47\" /><use xlink:href=\"#white-rook\" transform=\"translate(20.000000, 335.000000) scale(1.000000 1.000000)\" /><rect x=\"65.000000\" y=\"335.000000\" class=\"square light b1\" width=\"45.000000\" height=\"45.000000\" style=\"stroke: none;\" fill=\"#ffce9e\" /><use xlink:href=\"#white-knight\" transform=\"translate(65.000000, 335.000000) scale(1.000000 1.000000)\" /><rect x=\"110.000000\" y=\"335.000000\" class=\"square dark c1\" width=\"45.000000\" height=\"45.000000\" style=\"stroke: none;\" fill=\"#d18b47\" /><use xlink:href=\"#white-bishop\" transform=\"translate(110.000000, 335.000000) scale(1.000000 1.000000)\" /><rect x=\"155.000000\" y=\"335.000000\" class=\"square light d1\" width=\"45.000000\" height=\"45.000000\" style=\"stroke: none;\" fill=\"#ffce9e\" /><use xlink:href=\"#white-queen\" transform=\"translate(155.000000, 335.000000) scale(1.000000 1.000000)\" /><rect x=\"200.000000\" y=\"335.000000\" class=\"square dark e1\" width=\"45.000000\" height=\"45.000000\" style=\"stroke: none;\" fill=\"#d18b47\" /><use xlink:href=\"#white-king\" transform=\"translate(200.000000, 335.000000) scale(1.000000 1.000000)\" /><rect x=\"245.000000\" y=\"335.000000\" class=\"square light f1\" width=\"45.000000\" height=\"45.000000\" style=\"stroke: none;\" fill=\"#ffce9e\" /><use xlink:href=\"#white-bishop\" transform=\"translate(245.000000, 335.000000) scale(1.000000 1.000000)\" /><rect x=\"290.000000\" y=\"335.000000\" class=\"square dark g1\" width=\"45.000000\" height=\"45.000000\" style=\"stroke: none;\" fill=\"#d18b47\" /><use xlink:href=\"#white-knight\" transform=\"translate(290.000000, 335.000000) scale(1.000000 1.000000)\" /><rect x=\"335.000000\" y=\"335.000000\" class=\"square light h1\" width=\"45.000000\" height=\"45.000000\" style=\"stroke: none;\" fill=\"#ffce9e\" /><use xlink:href=\"#white-rook\" transform=\"translate(335.000000, 335.000000) scale(1.000000 1.000000)\" /><rect x=\"20.000000\" y=\"290.000000\" class=\"square light a2\" width=\"45.000000\" height=\"45.000000\" style=\"stroke: none;\" fill=\"#ffce9e\" /><use xlink:href=\"#white-pawn\" transform=\"translate(20.000000, 290.000000) scale(1.000000 1.000000)\" /><rect x=\"65.000000\" y=\"290.000000\" class=\"square dark b2\" width=\"45.000000\" height=\"45.000000\" style=\"stroke: none;\" fill=\"#d18b47\" /><use xlink:href=\"#white-pawn\" transform=\"translate(65.000000, 290.000000) scale(1.000000 1.000000)\" /><rect x=\"110.000000\" y=\"290.000000\" class=\"square light c2\" width=\"45.000000\" height=\"45.000000\" style=\"stroke: none;\" fill=\"#ffce9e\" /><use xlink:href=\"#white-pawn\" transform=\"translate(110.000000, 290.000000) scale(1.000000 1.000000)\" /><rect x=\"155.000000\" y=\"290.000000\" class=\"square dark d2\" width=\"45.000000\" height=\"45.000000\" style=\"stroke: none;\" fill=\"#d18b47\" /><use xlink:href=\"#white-pawn\" transform=\"translate(155.000000, 290.000000) scale(1.000000 1.000000)\" /><rect x=\"200.000000\" y=\"290.000000\" class=\"square light e2\" width=\"45.000000\" height=\"45.000000\" style=\"stroke: none;\" fill=\"#ffce9e\" /><use xlink:href=\"#white-pawn\" transform=\"translate(200.000000, 290.000000) scale(1.000000 1.000000)\" /><rect x=\"245.000000\" y=\"290.000000\" class=\"square dark f2\" width=\"45.000000\" height=\"45.000000\" style=\"stroke: none;\" fill=\"#d18b47\" /><use xlink:href=\"#white-pawn\" transform=\"translate(245.000000, 290.000000) scale(1.000000 1.000000)\" /><rect x=\"290.000000\" y=\"290.000000\" class=\"square light g2\" width=\"45.000000\" height=\"45.000000\" style=\"stroke: none;\" fill=\"#ffce9e\" /><use xlink:href=\"#white-pawn\" transform=\"translate(290.000000, 290.000000) scale(1.000000 1.000000)\" /><rect x=\"335.000000\" y=\"290.000000\" class=\"square dark h2\" width=\"45.000000\" height=\"45.000000\" style=\"stroke: none;\" fill=\"#d18b47\" /><use xlink:href=\"#white-pawn\" transform=\"translate(335.000000, 290.000000) scale(1.000000 1.000000)\" /><rect x=\"20.000000\" y=\"245.000000\" class=\"square dark a3\" width=\"45.000000\" height=\"45.000000\" style=\"stroke: none;\" fill=\"#d18b47\" /><rect x=\"65.000000\" y=\"245.000000\" class=\"square light b3\" width=\"45.000000\" height=\"45.000000\" style=\"stroke: none;\" fill=\"#ffce9e\" /><rect x=\"110.000000\" y=\"245.000000\" class=\"square dark c3\" width=\"45.000000\" height=\"45.000000\" style=\"stroke: none;\" fill=\"#d18b47\" /><rect x=\"155.000000\" y=\"245.000000\" class=\"square light d3\" width=\"45.000000\" height=\"45.000000\" style=\"stroke: none;\" fill=\"#ffce9e\" /><rect x=\"200.000000\" y=\"245.000000\" class=\"square dark e3\" width=\"45.000000\" height=\"45.000000\" style=\"stroke: none;\" fill=\"#d18b47\" /><rect x=\"245.000000\" y=\"245.000000\" class=\"square light f3\" width=\"45.000000\" height=\"45.000000\" style=\"stroke: none;\" fill=\"#ffce9e\" /><rect x=\"290.000000\" y=\"245.000000\" class=\"square dark g3\" width=\"45.000000\" height=\"45.000000\" style=\"stroke: none;\" fill=\"#d18b47\" /><rect x=\"335.000000\" y=\"245.000000\" class=\"square light h3\" width=\"45.000000\" height=\"45.000000\" style=\"stroke: none;\" fill=\"#ffce9e\" /><rect x=\"20.000000\" y=\"200.000000\" class=\"square light a4\" width=\"45.000000\" height=\"45.000000\" style=\"stroke: none;\" fill=\"#ffce9e\" /><rect x=\"65.000000\" y=\"200.000000\" class=\"square dark b4\" width=\"45.000000\" height=\"45.000000\" style=\"stroke: none;\" fill=\"#d18b47\" /><rect x=\"110.000000\" y=\"200.000000\" class=\"square light c4\" width=\"45.000000\" height=\"45.000000\" style=\"stroke: none;\" fill=\"#ffce9e\" /><rect x=\"155.000000\" y=\"200.000000\" class=\"square dark d4\" width=\"45.000000\" height=\"45.000000\" style=\"stroke: none;\" fill=\"#d18b47\" /><rect x=\"200.000000\" y=\"200.000000\" class=\"square light e4\" width=\"45.000000\" height=\"45.000000\" style=\"stroke: none;\" fill=\"#ffce9e\" /><rect x=\"245.000000\" y=\"200.000000\" class=\"square dark f4\" width=\"45.000000\" height=\"45.000000\" style=\"stroke: none;\" fill=\"#d18b47\" /><rect x=\"290.000000\" y=\"200.000000\" class=\"square light g4\" width=\"45.000000\" height=\"45.000000\" style=\"stroke: none;\" fill=\"#ffce9e\" /><rect x=\"335.000000\" y=\"200.000000\" class=\"square dark h4\" width=\"45.000000\" height=\"45.000000\" style=\"stroke: none;\" fill=\"#d18b47\" /><rect x=\"20.000000\" y=\"155.000000\" class=\"square dark a5\" width=\"45.000000\" height=\"45.000000\" style=\"stroke: none;\" fill=\"#d18b47\" /><rect x=\"65.000000\" y=\"155.000000\" class=\"square light b5\" width=\"45.000000\" height=\"45.000000\" style=\"stroke: none;\" fill=\"#ffce9e\" /><rect x=\"110.000000\" y=\"155.000000\" class=\"square dark c5\" width=\"45.000000\" height=\"45.000000\" style=\"stroke: none;\" fill=\"#d18b47\" /><rect x=\"155.000000\" y=\"155.000000\" class=\"square light d5\" width=\"45.000000\" height=\"45.000000\" style=\"stroke: none;\" fill=\"#ffce9e\" /><rect x=\"200.000000\" y=\"155.000000\" class=\"square dark e5\" width=\"45.000000\" height=\"45.000000\" style=\"stroke: none;\" fill=\"#d18b47\" /><rect x=\"245.000000\" y=\"155.000000\" class=\"square light f5\" width=\"45.000000\" height=\"45.000000\" style=\"stroke: none;\" fill=\"#ffce9e\" /><rect x=\"290.000000\" y=\"155.000000\" class=\"square dark g5\" width=\"45.000000\" height=\"45.000000\" style=\"stroke: none;\" fill=\"#d18b47\" /><rect x=\"335.000000\" y=\"155.000000\" class=\"square light h5\" width=\"45.000000\" height=\"45.000000\" style=\"stroke: none;\" fill=\"#ffce9e\" /><rect x=\"20.000000\" y=\"110.000000\" class=\"square light a6\" width=\"45.000000\" height=\"45.000000\" style=\"stroke: none;\" fill=\"#ffce9e\" /><rect x=\"65.000000\" y=\"110.000000\" class=\"square dark b6\" width=\"45.000000\" height=\"45.000000\" style=\"stroke: none;\" fill=\"#d18b47\" /><rect x=\"110.000000\" y=\"110.000000\" class=\"square light c6\" width=\"45.000000\" height=\"45.000000\" style=\"stroke: none;\" fill=\"#ffce9e\" /><rect x=\"155.000000\" y=\"110.000000\" class=\"square dark d6\" width=\"45.000000\" height=\"45.000000\" style=\"stroke: none;\" fill=\"#d18b47\" /><rect x=\"200.000000\" y=\"110.000000\" class=\"square light e6\" width=\"45.000000\" height=\"45.000000\" style=\"stroke: none;\" fill=\"#ffce9e\" /><rect x=\"245.000000\" y=\"110.000000\" class=\"square dark f6\" width=\"45.000000\" height=\"45.000000\" style=\"stroke: none;\" fill=\"#d18b47\" /><rect x=\"290.000000\" y=\"110.000000\" class=\"square light g6\" width=\"45.000000\" height=\"45.000000\" style=\"stroke: none;\" fill=\"#ffce9e\" /><rect x=\"335.000000\" y=\"110.000000\" class=\"square dark h6\" width=\"45.000000\" height=\"45.000000\" style=\"stroke: none;\" fill=\"#d18b47\" /><rect x=\"20.000000\" y=\"65.000000\" class=\"square dark a7\" width=\"45.000000\" height=\"45.000000\" style=\"stroke: none;\" fill=\"#d18b47\" /><use xlink:href=\"#black-pawn\" transform=\"translate(20.000000, 65.000000) scale(1.000000 1.000000)\" /><rect x=\"65.000000\" y=\"65.000000\" class=\"square light b7\" width=\"45.000000\" height=\"45.000000\" style=\"stroke: none;\" fill=\"#ffce9e\" /><use xlink:href=\"#black-pawn\" transform=\"translate(65.000000, 65.000000) scale(1.000000 1.000000)\" /><rect x=\"110.000000\" y=\"65.000000\" class=\"square dark c7\" width=\"45.000000\" height=\"45.000000\" style=\"stroke: none;\" fill=\"#d18b47\" /><use xlink:href=\"#black-pawn\" transform=\"translate(110.000000, 65.000000) scale(1.000000 1.000000)\" /><rect x=\"155.000000\" y=\"65.000000\" class=\"square light d7\" width=\"45.000000\" height=\"45.000000\" style=\"stroke: none;\" fill=\"#ffce9e\" /><use xlink:href=\"#black-pawn\" transform=\"translate(155.000000, 65.000000) scale(1.000000 1.000000)\" /><rect x=\"200.000000\" y=\"65.000000\" class=\"square dark e7\" width=\"45.000000\" height=\"45.000000\" style=\"stroke: none;\" fill=\"#d18b47\" /><use xlink:href=\"#black-pawn\" transform=\"translate(200.000000, 65.000000) scale(1.000000 1.000000)\" /><rect x=\"245.000000\" y=\"65.000000\" class=\"square light f7\" width=\"45.000000\" height=\"45.000000\" style=\"stroke: none;\" fill=\"#ffce9e\" /><use xlink:href=\"#black-pawn\" transform=\"translate(245.000000, 65.000000) scale(1.000000 1.000000)\" /><rect x=\"290.000000\" y=\"65.000000\" class=\"square dark g7\" width=\"45.000000\" height=\"45.000000\" style=\"stroke: none;\" fill=\"#d18b47\" /><use xlink:href=\"#black-pawn\" transform=\"translate(290.000000, 65.000000) scale(1.000000 1.000000)\" /><rect x=\"335.000000\" y=\"65.000000\" class=\"square light h7\" width=\"45.000000\" height=\"45.000000\" style=\"stroke: none;\" fill=\"#ffce9e\" /><use xlink:href=\"#black-pawn\" transform=\"translate(335.000000, 65.000000) scale(1.000000 1.000000)\" /><rect x=\"20.000000\" y=\"20.000000\" class=\"square light a8\" width=\"45.000000\" height=\"45.000000\" style=\"stroke: none;\" fill=\"#ffce9e\" /><use xlink:href=\"#black-rook\" transform=\"translate(20.000000, 20.000000) scale(1.000000 1.000000)\" /><rect x=\"65.000000\" y=\"20.000000\" class=\"square dark b8\" width=\"45.000000\" height=\"45.000000\" style=\"stroke: none;\" fill=\"#d18b47\" /><use xlink:href=\"#black-knight\" transform=\"translate(65.000000, 20.000000) scale(1.000000 1.000000)\" /><rect x=\"110.000000\" y=\"20.000000\" class=\"square light c8\" width=\"45.000000\" height=\"45.000000\" style=\"stroke: none;\" fill=\"#ffce9e\" /><use xlink:href=\"#black-bishop\" transform=\"translate(110.000000, 20.000000) scale(1.000000 1.000000)\" /><rect x=\"155.000000\" y=\"20.000000\" class=\"square dark d8\" width=\"45.000000\" height=\"45.000000\" style=\"stroke: none;\" fill=\"#d18b47\" /><use xlink:href=\"#black-queen\" transform=\"translate(155.000000, 20.000000) scale(1.000000 1.000000)\" /><rect x=\"200.000000\" y=\"20.000000\" class=\"square light e8\" width=\"45.000000\" height=\"45.000000\" style=\"stroke: none;\" fill=\"#ffce9e\" /><use xlink:href=\"#black-king\" transform=\"translate(200.000000, 20.000000) scale(1.000000 1.000000)\" /><rect x=\"245.000000\" y=\"20.000000\" class=\"square dark f8\" width=\"45.000000\" height=\"45.000000\" style=\"stroke: none;\" fill=\"#d18b47\" /><use xlink:href=\"#black-bishop\" transform=\"translate(245.000000, 20.000000) scale(1.000000 1.000000)\" /><rect x=\"290.000000\" y=\"20.000000\" class=\"square light g8\" width=\"45.000000\" height=\"45.000000\" style=\"stroke: none;\" fill=\"#ffce9e\" /><use xlink:href=\"#black-knight\" transform=\"translate(290.000000, 20.000000) scale(1.000000 1.000000)\" /><rect x=\"335.000000\" y=\"20.000000\" class=\"square dark h8\" width=\"45.000000\" height=\"45.000000\" style=\"stroke: none;\" fill=\"#d18b47\" /><use xlink:href=\"#black-rook\" transform=\"translate(335.000000, 20.000000) scale(1.000000 1.000000)\" /><text x=\"42\" y=\"10\" text-anchor=\"middle\" alignment-baseline=\"middle\" font-size=\"14\">a</text><text x=\"42\" y=\"390\" text-anchor=\"middle\" alignment-baseline=\"middle\" font-size=\"14\">a</text><text x=\"87\" y=\"10\" text-anchor=\"middle\" alignment-baseline=\"middle\" font-size=\"14\">b</text><text x=\"87\" y=\"390\" text-anchor=\"middle\" alignment-baseline=\"middle\" font-size=\"14\">b</text><text x=\"132\" y=\"10\" text-anchor=\"middle\" alignment-baseline=\"middle\" font-size=\"14\">c</text><text x=\"132\" y=\"390\" text-anchor=\"middle\" alignment-baseline=\"middle\" font-size=\"14\">c</text><text x=\"177\" y=\"10\" text-anchor=\"middle\" alignment-baseline=\"middle\" font-size=\"14\">d</text><text x=\"177\" y=\"390\" text-anchor=\"middle\" alignment-baseline=\"middle\" font-size=\"14\">d</text><text x=\"222\" y=\"10\" text-anchor=\"middle\" alignment-baseline=\"middle\" font-size=\"14\">e</text><text x=\"222\" y=\"390\" text-anchor=\"middle\" alignment-baseline=\"middle\" font-size=\"14\">e</text><text x=\"267\" y=\"10\" text-anchor=\"middle\" alignment-baseline=\"middle\" font-size=\"14\">f</text><text x=\"267\" y=\"390\" text-anchor=\"middle\" alignment-baseline=\"middle\" font-size=\"14\">f</text><text x=\"312\" y=\"10\" text-anchor=\"middle\" alignment-baseline=\"middle\" font-size=\"14\">g</text><text x=\"312\" y=\"390\" text-anchor=\"middle\" alignment-baseline=\"middle\" font-size=\"14\">g</text><text x=\"357\" y=\"10\" text-anchor=\"middle\" alignment-baseline=\"middle\" font-size=\"14\">h</text><text x=\"357\" y=\"390\" text-anchor=\"middle\" alignment-baseline=\"middle\" font-size=\"14\">h</text><text x=\"10\" y=\"357\" text-anchor=\"middle\" alignment-baseline=\"middle\" font-size=\"14\">1</text><text x=\"390\" y=\"357\" text-anchor=\"middle\" alignment-baseline=\"middle\" font-size=\"14\">1</text><text x=\"10\" y=\"312\" text-anchor=\"middle\" alignment-baseline=\"middle\" font-size=\"14\">2</text><text x=\"390\" y=\"312\" text-anchor=\"middle\" alignment-baseline=\"middle\" font-size=\"14\">2</text><text x=\"10\" y=\"267\" text-anchor=\"middle\" alignment-baseline=\"middle\" font-size=\"14\">3</text><text x=\"390\" y=\"267\" text-anchor=\"middle\" alignment-baseline=\"middle\" font-size=\"14\">3</text><text x=\"10\" y=\"222\" text-anchor=\"middle\" alignment-baseline=\"middle\" font-size=\"14\">4</text><text x=\"390\" y=\"222\" text-anchor=\"middle\" alignment-baseline=\"middle\" font-size=\"14\">4</text><text x=\"10\" y=\"177\" text-anchor=\"middle\" alignment-baseline=\"middle\" font-size=\"14\">5</text><text x=\"390\" y=\"177\" text-anchor=\"middle\" alignment-baseline=\"middle\" font-size=\"14\">5</text><text x=\"10\" y=\"132\" text-anchor=\"middle\" alignment-baseline=\"middle\" font-size=\"14\">6</text><text x=\"390\" y=\"132\" text-anchor=\"middle\" alignment-baseline=\"middle\" font-size=\"14\">6</text><text x=\"10\" y=\"87\" text-anchor=\"middle\" alignment-baseline=\"middle\" font-size=\"14\">7</text><text x=\"390\" y=\"87\" text-anchor=\"middle\" alignment-baseline=\"middle\" font-size=\"14\">7</text><text x=\"10\" y=\"42\" text-anchor=\"middle\" alignment-baseline=\"middle\" font-size=\"14\">8</text><text x=\"390\" y=\"42\" text-anchor=\"middle\" alignment-baseline=\"middle\" font-size=\"14\">8</text></svg>"
      ],
      "text/plain": [
       "Board('rnbqkbnr/pppppppp/8/8/8/8/PPPPPPPP/RNBQKBNR w KQkq - 0 1')"
      ]
     },
     "execution_count": 4,
     "metadata": {},
     "output_type": "execute_result"
    }
   ],
   "source": [
    "board"
   ]
  },
  {
   "cell_type": "markdown",
   "metadata": {},
   "source": [
    "## Who's turn is it?"
   ]
  },
  {
   "cell_type": "code",
   "execution_count": 5,
   "metadata": {
    "collapsed": false
   },
   "outputs": [
    {
     "data": {
      "text/plain": [
       "True"
      ]
     },
     "execution_count": 5,
     "metadata": {},
     "output_type": "execute_result"
    }
   ],
   "source": [
    "chess.WHITE"
   ]
  },
  {
   "cell_type": "code",
   "execution_count": 6,
   "metadata": {
    "collapsed": false
   },
   "outputs": [
    {
     "data": {
      "text/plain": [
       "False"
      ]
     },
     "execution_count": 6,
     "metadata": {},
     "output_type": "execute_result"
    }
   ],
   "source": [
    "chess.BLACK"
   ]
  },
  {
   "cell_type": "markdown",
   "metadata": {},
   "source": [
    "## Detect Checkmates, Stalemates and Draws"
   ]
  },
  {
   "cell_type": "code",
   "execution_count": 7,
   "metadata": {
    "collapsed": false
   },
   "outputs": [
    {
     "data": {
      "text/plain": [
       "False"
      ]
     },
     "execution_count": 7,
     "metadata": {},
     "output_type": "execute_result"
    }
   ],
   "source": [
    "board.is_game_over()"
   ]
  },
  {
   "cell_type": "code",
   "execution_count": 8,
   "metadata": {
    "collapsed": false
   },
   "outputs": [
    {
     "data": {
      "text/plain": [
       "False"
      ]
     },
     "execution_count": 8,
     "metadata": {},
     "output_type": "execute_result"
    }
   ],
   "source": [
    "board.is_checkmate()"
   ]
  },
  {
   "cell_type": "code",
   "execution_count": 9,
   "metadata": {
    "collapsed": false
   },
   "outputs": [
    {
     "data": {
      "text/plain": [
       "False"
      ]
     },
     "execution_count": 9,
     "metadata": {},
     "output_type": "execute_result"
    }
   ],
   "source": [
    "board.is_stalemate()"
   ]
  },
  {
   "cell_type": "code",
   "execution_count": 10,
   "metadata": {
    "collapsed": false
   },
   "outputs": [
    {
     "data": {
      "text/plain": [
       "False"
      ]
     },
     "execution_count": 10,
     "metadata": {},
     "output_type": "execute_result"
    }
   ],
   "source": [
    "board.is_insufficient_material()"
   ]
  },
  {
   "cell_type": "code",
   "execution_count": 11,
   "metadata": {
    "collapsed": false
   },
   "outputs": [
    {
     "data": {
      "text/plain": [
       "False"
      ]
     },
     "execution_count": 11,
     "metadata": {},
     "output_type": "execute_result"
    }
   ],
   "source": [
    "board.is_check()"
   ]
  },
  {
   "cell_type": "markdown",
   "metadata": {},
   "source": [
    "## Show legal moves\n",
    "\n",
    "Research this further to see what limitations, if any, there are."
   ]
  },
  {
   "cell_type": "code",
   "execution_count": 12,
   "metadata": {
    "collapsed": false
   },
   "outputs": [
    {
     "data": {
      "text/plain": [
       "<LegalMoveGenerator at 0x223b033b4e0 (Nh3, Nf3, Nc3, Na3, h3, g3, f3, e3, d3, c3, b3, a3, h4, g4, f4, e4, d4, c4, b4, a4)>"
      ]
     },
     "execution_count": 12,
     "metadata": {},
     "output_type": "execute_result"
    }
   ],
   "source": [
    "board.legal_moves"
   ]
  },
  {
   "cell_type": "markdown",
   "metadata": {},
   "source": [
    "## Automated New Game"
   ]
  },
  {
   "cell_type": "code",
   "execution_count": 13,
   "metadata": {
    "collapsed": false
   },
   "outputs": [],
   "source": [
    "# Define piece values\n",
    "v = {'K': 1000, 'Q': 100, 'B': 5, 'N': 5, 'R': 5, 'P': 1}"
   ]
  },
  {
   "cell_type": "code",
   "execution_count": 14,
   "metadata": {
    "collapsed": false
   },
   "outputs": [],
   "source": [
    "def get_pieces(board):\n",
    "    '''\n",
    "    Returns chess pieces currently on board. Separates white and black pieces into lists.\n",
    "    \n",
    "    Returns list[] = [[black_pieces], [white_pieces]]\n",
    "    '''\n",
    "    board_list = str(board)\n",
    "    pieces = []\n",
    "    b_pieces = []\n",
    "    w_pieces = []\n",
    "    \n",
    "    for char in board_list:\n",
    "        if char.islower():  #black player pieces are lowercase\n",
    "            b_pieces.append(char)\n",
    "        elif char.isupper():  #white player pieces are Uppercase\n",
    "            w_pieces.append(char)\n",
    "            \n",
    "    pieces = [b_pieces, w_pieces]\n",
    "    return pieces"
   ]
  },
  {
   "cell_type": "code",
   "execution_count": 15,
   "metadata": {
    "collapsed": false
   },
   "outputs": [],
   "source": [
    "def get_cur_reward(piece_list, piece_val_dict):\n",
    "    '''\n",
    "    Returns current reward value for each player.\n",
    "    \n",
    "    Returns list = [black_score(int), white_score(int)]\n",
    "    '''\n",
    "    b_score = 0\n",
    "    w_score = 0\n",
    "    \n",
    "    # get score for black pieces\n",
    "    for p in piece_list[0]:\n",
    "        b_score = b_score + v[p.upper()]\n",
    "    \n",
    "    # get score for white pieces\n",
    "    for p in piece_list[1]:\n",
    "        w_score = w_score + v[p] #already uppercase\n",
    "        \n",
    "    return [b_score, w_score]"
   ]
  },
  {
   "cell_type": "code",
   "execution_count": 16,
   "metadata": {
    "collapsed": false,
    "scrolled": true
   },
   "outputs": [
    {
     "name": "stdout",
     "output_type": "stream",
     "text": [
      "Move Number: 0\n",
      "[1138, 1138]\n",
      "Player Action: e2e3\n",
      "b_score 1138 w_score 1138\n",
      "Move Number: 1\n",
      "[1138, 1138]\n",
      "Player Action: g7g5\n",
      "b_score 1138 w_score 1138\n",
      "Move Number: 2\n",
      "[1138, 1138]\n",
      "Player Action: f1d3\n",
      "b_score 1138 w_score 1138\n",
      "Move Number: 3\n",
      "[1138, 1138]\n",
      "Player Action: c7c5\n",
      "b_score 1138 w_score 1138\n",
      "Move Number: 4\n",
      "[1138, 1138]\n",
      "Player Action: d3f1\n",
      "b_score 1138 w_score 1138\n",
      "Move Number: 5\n",
      "[1138, 1138]\n",
      "Player Action: d8c7\n",
      "b_score 1138 w_score 1138\n",
      "Move Number: 6\n",
      "[1138, 1138]\n",
      "Player Action: g1e2\n",
      "b_score 1138 w_score 1138\n",
      "Move Number: 7\n",
      "[1138, 1138]\n",
      "Player Action: d7d6\n",
      "b_score 1138 w_score 1138\n",
      "Move Number: 8\n",
      "[1138, 1138]\n",
      "Player Action: b2b4\n",
      "b_score 1138 w_score 1138\n",
      "Move Number: 9\n",
      "[1138, 1138]\n",
      "Player Action: f7f6\n",
      "b_score 1138 w_score 1138\n",
      "Move Number: 10\n",
      "[1138, 1138]\n",
      "Player Action: c2c4\n",
      "b_score 1138 w_score 1138\n",
      "Move Number: 11\n",
      "[1138, 1138]\n",
      "Player Action: c8f5\n",
      "b_score 1138 w_score 1138\n",
      "Move Number: 12\n",
      "[1138, 1138]\n",
      "Player Action: c1a3\n",
      "b_score 1138 w_score 1138\n",
      "Move Number: 13\n",
      "[1138, 1138]\n",
      "Player Action: c7c8\n",
      "b_score 1138 w_score 1138\n",
      "Move Number: 14\n",
      "[1138, 1138]\n",
      "Player Action: b4c5\n",
      "b_score 1138 w_score 1138\n",
      "Move Number: 15\n",
      "[1137, 1138]\n",
      "Player Action: b8c6\n",
      "b_score 1137 w_score 1138\n",
      "Move Number: 16\n",
      "[1137, 1138]\n",
      "Player Action: d1c1\n",
      "b_score 1137 w_score 1138\n",
      "Move Number: 17\n",
      "[1137, 1138]\n",
      "Player Action: e7e6\n",
      "b_score 1137 w_score 1138\n",
      "Move Number: 18\n",
      "[1137, 1138]\n",
      "Player Action: c1d1\n",
      "b_score 1137 w_score 1138\n",
      "Move Number: 19\n",
      "[1137, 1138]\n",
      "Player Action: h7h6\n",
      "b_score 1137 w_score 1138\n",
      "Move Number: 20\n",
      "[1137, 1138]\n",
      "Player Action: a3c1\n",
      "b_score 1137 w_score 1138\n",
      "Move Number: 21\n",
      "[1137, 1138]\n",
      "Player Action: c6d4\n",
      "b_score 1137 w_score 1138\n",
      "Move Number: 22\n",
      "[1137, 1138]\n",
      "Player Action: e3e4\n",
      "b_score 1137 w_score 1138\n",
      "Move Number: 23\n",
      "[1137, 1138]\n",
      "Player Action: f5h3\n",
      "b_score 1137 w_score 1138\n",
      "Move Number: 24\n",
      "[1137, 1138]\n",
      "Player Action: b1a3\n",
      "b_score 1137 w_score 1138\n",
      "Move Number: 25\n",
      "[1137, 1138]\n",
      "Player Action: e8d7\n",
      "b_score 1137 w_score 1138\n",
      "Move Number: 26\n",
      "[1137, 1138]\n",
      "Player Action: e2g3\n",
      "b_score 1137 w_score 1138\n",
      "Move Number: 27\n",
      "[1137, 1138]\n",
      "Player Action: g8e7\n",
      "b_score 1137 w_score 1138\n",
      "Move Number: 28\n",
      "[1137, 1138]\n",
      "Player Action: d1b3\n",
      "b_score 1137 w_score 1138\n",
      "Move Number: 29\n",
      "[1137, 1138]\n",
      "Player Action: d7c7\n",
      "b_score 1137 w_score 1138\n",
      "Move Number: 30\n",
      "[1137, 1138]\n",
      "Player Action: b3a4\n",
      "b_score 1137 w_score 1138\n",
      "Move Number: 31\n",
      "[1137, 1138]\n",
      "Player Action: c8e8\n",
      "b_score 1137 w_score 1138\n",
      "Move Number: 32\n",
      "[1137, 1138]\n",
      "Player Action: c1b2\n",
      "b_score 1137 w_score 1138\n",
      "Move Number: 33\n",
      "[1137, 1138]\n",
      "Player Action: e7g8\n",
      "b_score 1137 w_score 1138\n",
      "Move Number: 34\n",
      "[1137, 1138]\n",
      "Player Action: a4b3\n",
      "b_score 1137 w_score 1138\n",
      "Move Number: 35\n",
      "[1137, 1138]\n",
      "Player Action: d4b3\n",
      "b_score 1137 w_score 1138\n",
      "Move Number: 36\n",
      "[1137, 1038]\n",
      "Player Action: d2d3\n",
      "b_score 1137 w_score 1038\n",
      "Move Number: 37\n",
      "[1137, 1038]\n",
      "Player Action: a8d8\n",
      "b_score 1137 w_score 1038\n",
      "Move Number: 38\n",
      "[1137, 1038]\n",
      "Player Action: b2c3\n",
      "b_score 1137 w_score 1038\n",
      "Move Number: 39\n",
      "[1137, 1038]\n",
      "Player Action: b7b6\n",
      "b_score 1137 w_score 1038\n",
      "Move Number: 40\n",
      "[1137, 1038]\n",
      "Player Action: a1c1\n",
      "b_score 1137 w_score 1038\n",
      "Move Number: 41\n",
      "[1137, 1038]\n",
      "Player Action: e8e7\n",
      "b_score 1137 w_score 1038\n",
      "Move Number: 42\n",
      "[1137, 1038]\n",
      "Player Action: a2b3\n",
      "b_score 1137 w_score 1038\n",
      "Move Number: 43\n",
      "[1132, 1038]\n",
      "Player Action: c7c6\n",
      "b_score 1132 w_score 1038\n",
      "Move Number: 44\n",
      "[1132, 1038]\n",
      "Player Action: c1a1\n",
      "b_score 1132 w_score 1038\n",
      "Move Number: 45\n",
      "[1132, 1038]\n",
      "Player Action: d8b8\n",
      "b_score 1132 w_score 1038\n",
      "Move Number: 46\n",
      "[1132, 1038]\n",
      "Player Action: e1e2\n",
      "b_score 1132 w_score 1038\n",
      "Move Number: 47\n",
      "[1132, 1038]\n",
      "Player Action: b8a8\n",
      "b_score 1132 w_score 1038\n",
      "Move Number: 48\n",
      "[1132, 1038]\n",
      "Player Action: f2f3\n",
      "b_score 1132 w_score 1038\n",
      "Move Number: 49\n",
      "[1132, 1038]\n",
      "Player Action: h8h7\n",
      "b_score 1132 w_score 1038\n",
      "Move Number: 50\n",
      "[1132, 1038]\n",
      "Player Action: h1g1\n",
      "b_score 1132 w_score 1038\n",
      "Move Number: 51\n",
      "[1132, 1038]\n",
      "Player Action: h7h8\n",
      "b_score 1132 w_score 1038\n",
      "Move Number: 52\n",
      "[1132, 1038]\n",
      "Player Action: c5d6\n",
      "b_score 1132 w_score 1038\n",
      "Move Number: 53\n",
      "[1131, 1038]\n",
      "Player Action: c6b7\n",
      "b_score 1131 w_score 1038\n",
      "Move Number: 54\n",
      "[1131, 1038]\n",
      "Player Action: g3f5\n",
      "b_score 1131 w_score 1038\n",
      "Move Number: 55\n",
      "[1131, 1038]\n",
      "Player Action: h6h5\n",
      "b_score 1131 w_score 1038\n",
      "Move Number: 56\n",
      "[1131, 1038]\n",
      "Player Action: c3f6\n",
      "b_score 1131 w_score 1038\n",
      "Move Number: 57\n",
      "[1130, 1038]\n",
      "Player Action: g8h6\n",
      "b_score 1130 w_score 1038\n",
      "Move Number: 58\n",
      "[1130, 1038]\n",
      "Player Action: f5e3\n",
      "b_score 1130 w_score 1038\n",
      "Move Number: 59\n",
      "[1130, 1038]\n",
      "Player Action: h3g4\n",
      "b_score 1130 w_score 1038\n",
      "Move Number: 60\n",
      "[1130, 1038]\n",
      "Player Action: d3d4\n",
      "b_score 1130 w_score 1038\n",
      "Move Number: 61\n",
      "[1130, 1038]\n",
      "Player Action: b7b8\n",
      "b_score 1130 w_score 1038\n",
      "Move Number: 62\n",
      "[1130, 1038]\n",
      "Player Action: a1d1\n",
      "b_score 1130 w_score 1038\n",
      "Move Number: 63\n",
      "[1130, 1038]\n",
      "Player Action: h5h4\n",
      "b_score 1130 w_score 1038\n",
      "Move Number: 64\n",
      "[1130, 1038]\n",
      "Player Action: e2d3\n",
      "b_score 1130 w_score 1038\n",
      "Move Number: 65\n",
      "[1130, 1038]\n",
      "Player Action: b6b5\n",
      "b_score 1130 w_score 1038\n",
      "Move Number: 66\n",
      "[1130, 1038]\n",
      "Player Action: c4c5\n",
      "b_score 1130 w_score 1038\n",
      "Move Number: 67\n",
      "[1130, 1038]\n",
      "Player Action: e7g7\n",
      "b_score 1130 w_score 1038\n",
      "Move Number: 68\n",
      "[1130, 1038]\n",
      "Player Action: f6g7\n",
      "b_score 1130 w_score 1038\n",
      "Move Number: 69\n",
      "[1030, 1038]\n",
      "Player Action: b5b4\n",
      "b_score 1030 w_score 1038\n",
      "Move Number: 70\n",
      "[1030, 1038]\n",
      "Player Action: a3c2\n",
      "b_score 1030 w_score 1038\n",
      "Move Number: 71\n",
      "[1030, 1038]\n",
      "Player Action: f8g7\n",
      "b_score 1030 w_score 1038\n",
      "Move Number: 72\n",
      "[1030, 1033]\n",
      "Player Action: e3d5\n",
      "b_score 1030 w_score 1033\n",
      "Move Number: 73\n",
      "[1030, 1033]\n",
      "Player Action: e6e5\n",
      "b_score 1030 w_score 1033\n",
      "Move Number: 74\n",
      "[1030, 1033]\n",
      "Player Action: d5b6\n",
      "b_score 1030 w_score 1033\n",
      "Move Number: 75\n",
      "[1030, 1033]\n",
      "Player Action: h6g8\n",
      "b_score 1030 w_score 1033\n",
      "Move Number: 76\n",
      "[1030, 1033]\n",
      "Player Action: d1c1\n",
      "b_score 1030 w_score 1033\n",
      "Move Number: 77\n",
      "[1030, 1033]\n",
      "Player Action: g8f6\n",
      "b_score 1030 w_score 1033\n",
      "Move Number: 78\n",
      "[1030, 1033]\n",
      "Player Action: g2g3\n",
      "b_score 1030 w_score 1033\n",
      "Move Number: 79\n",
      "[1030, 1033]\n",
      "Player Action: h8c8\n",
      "b_score 1030 w_score 1033\n",
      "Move Number: 80\n",
      "[1030, 1033]\n",
      "Player Action: c2a3\n",
      "b_score 1030 w_score 1033\n",
      "Move Number: 81\n",
      "[1030, 1033]\n",
      "Player Action: b4a3\n",
      "b_score 1030 w_score 1033\n",
      "Move Number: 82\n",
      "[1030, 1028]\n",
      "Player Action: d3c2\n",
      "b_score 1030 w_score 1028\n",
      "Move Number: 83\n",
      "[1030, 1028]\n",
      "Player Action: f6e4\n",
      "b_score 1030 w_score 1028\n",
      "Move Number: 84\n",
      "[1030, 1027]\n",
      "Player Action: h2h3\n",
      "b_score 1030 w_score 1027\n",
      "Move Number: 85\n",
      "[1030, 1027]\n",
      "Player Action: a7a5\n",
      "b_score 1030 w_score 1027\n",
      "Move Number: 86\n",
      "[1030, 1027]\n",
      "Player Action: f1b5\n",
      "b_score 1030 w_score 1027\n",
      "Move Number: 87\n",
      "[1030, 1027]\n",
      "Player Action: e4c5\n",
      "b_score 1030 w_score 1027\n",
      "Move Number: 88\n",
      "[1030, 1026]\n",
      "Player Action: g1g2\n",
      "b_score 1030 w_score 1026\n",
      "Move Number: 89\n",
      "[1030, 1026]\n",
      "Player Action: a8a7\n",
      "b_score 1030 w_score 1026\n",
      "Move Number: 90\n",
      "[1030, 1026]\n",
      "Player Action: h3g4\n",
      "b_score 1030 w_score 1026\n",
      "Move Number: 91\n",
      "[1025, 1026]\n",
      "Player Action: c8c6\n",
      "b_score 1025 w_score 1026\n",
      "Move Number: 92\n",
      "[1025, 1026]\n",
      "Player Action: g2e2\n",
      "b_score 1025 w_score 1026\n",
      "Move Number: 93\n",
      "[1025, 1026]\n",
      "Player Action: c5b7\n",
      "b_score 1025 w_score 1026\n",
      "Move Number: 94\n",
      "[1025, 1026]\n",
      "Player Action: c2d3\n",
      "b_score 1025 w_score 1026\n",
      "Move Number: 95\n",
      "[1025, 1026]\n",
      "Player Action: h4g3\n",
      "b_score 1025 w_score 1026\n",
      "Move Number: 96\n",
      "[1025, 1025]\n",
      "Player Action: d6d7\n",
      "b_score 1025 w_score 1025\n",
      "Move Number: 97\n",
      "[1025, 1025]\n",
      "Player Action: c6c7\n",
      "b_score 1025 w_score 1025\n",
      "Move Number: 98\n",
      "[1025, 1025]\n",
      "Player Action: b5c4\n",
      "b_score 1025 w_score 1025\n",
      "Move Number: 99\n",
      "[1025, 1025]\n",
      "Player Action: a3a2\n",
      "b_score 1025 w_score 1025\n"
     ]
    },
    {
     "data": {
      "image/svg+xml": [
       "<svg xmlns=\"http://www.w3.org/2000/svg\" version=\"1.1\" xmlns:xlink=\"http://www.w3.org/1999/xlink\" width=\"400\" height=\"400\"><style>.check {\n",
       "  fill: url(#check_gradient);\n",
       "}\n",
       "</style><defs><g id=\"black-queen\" class=\"black queen\" fill=\"#000\" fill-rule=\"evenodd\" stroke=\"#000\" stroke-width=\"1.5\" stroke-linecap=\"round\" stroke-linejoin=\"round\"><g fill=\"#000\" stroke=\"none\"><circle cx=\"6\" cy=\"12\" r=\"2.75\"/><circle cx=\"14\" cy=\"9\" r=\"2.75\"/><circle cx=\"22.5\" cy=\"8\" r=\"2.75\"/><circle cx=\"31\" cy=\"9\" r=\"2.75\"/><circle cx=\"39\" cy=\"12\" r=\"2.75\"/></g><path d=\"M9 26c8.5-1.5 21-1.5 27 0l2.5-12.5L31 25l-.3-14.1-5.2 13.6-3-14.5-3 14.5-5.2-13.6L14 25 6.5 13.5 9 26zM9 26c0 2 1.5 2 2.5 4 1 1.5 1 1 .5 3.5-1.5 1-1.5 2.5-1.5 2.5-1.5 1.5.5 2.5.5 2.5 6.5 1 16.5 1 23 0 0 0 1.5-1 0-2.5 0 0 .5-1.5-1-2.5-.5-2.5-.5-2 .5-3.5 1-2 2.5-2 2.5-4-8.5-1.5-18.5-1.5-27 0z\" stroke-linecap=\"butt\"/><path d=\"M11 38.5a35 35 1 0 0 23 0\" fill=\"none\" stroke-linecap=\"butt\"/><path d=\"M11 29a35 35 1 0 1 23 0M12.5 31.5h20M11.5 34.5a35 35 1 0 0 22 0M10.5 37.5a35 35 1 0 0 24 0\" fill=\"none\" stroke=\"#fff\"/></g><g id=\"black-knight\" class=\"black knight\" fill=\"none\" fill-rule=\"evenodd\" stroke=\"#000\" stroke-width=\"1.5\" stroke-linecap=\"round\" stroke-linejoin=\"round\"><path d=\"M 22,10 C 32.5,11 38.5,18 38,39 L 15,39 C 15,30 25,32.5 23,18\" style=\"fill:#000000; stroke:#000000;\"/><path d=\"M 24,18 C 24.38,20.91 18.45,25.37 16,27 C 13,29 13.18,31.34 11,31 C 9.958,30.06 12.41,27.96 11,28 C 10,28 11.19,29.23 10,30 C 9,30 5.997,31 6,26 C 6,24 12,14 12,14 C 12,14 13.89,12.1 14,10.5 C 13.27,9.506 13.5,8.5 13.5,7.5 C 14.5,6.5 16.5,10 16.5,10 L 18.5,10 C 18.5,10 19.28,8.008 21,7 C 22,7 22,10 22,10\" style=\"fill:#000000; stroke:#000000;\"/><path d=\"M 9.5 25.5 A 0.5 0.5 0 1 1 8.5,25.5 A 0.5 0.5 0 1 1 9.5 25.5 z\" style=\"fill:#ececec; stroke:#ececec;\"/><path d=\"M 15 15.5 A 0.5 1.5 0 1 1 14,15.5 A 0.5 1.5 0 1 1 15 15.5 z\" transform=\"matrix(0.866,0.5,-0.5,0.866,9.693,-5.173)\" style=\"fill:#ececec; stroke:#ececec;\"/><path d=\"M 24.55,10.4 L 24.1,11.85 L 24.6,12 C 27.75,13 30.25,14.49 32.5,18.75 C 34.75,23.01 35.75,29.06 35.25,39 L 35.2,39.5 L 37.45,39.5 L 37.5,39 C 38,28.94 36.62,22.15 34.25,17.66 C 31.88,13.17 28.46,11.02 25.06,10.5 L 24.55,10.4 z \" style=\"fill:#ececec; stroke:none;\"/></g><g id=\"white-rook\" class=\"white rook\" fill=\"#fff\" fill-rule=\"evenodd\" stroke=\"#000\" stroke-width=\"1.5\" stroke-linecap=\"round\" stroke-linejoin=\"round\"><path d=\"M9 39h27v-3H9v3zM12 36v-4h21v4H12zM11 14V9h4v2h5V9h5v2h5V9h4v5\" stroke-linecap=\"butt\"/><path d=\"M34 14l-3 3H14l-3-3\"/><path d=\"M31 17v12.5H14V17\" stroke-linecap=\"butt\" stroke-linejoin=\"miter\"/><path d=\"M31 29.5l1.5 2.5h-20l1.5-2.5\"/><path d=\"M11 14h23\" fill=\"none\" stroke-linejoin=\"miter\"/></g><g id=\"white-bishop\" class=\"white bishop\" fill=\"none\" fill-rule=\"evenodd\" stroke=\"#000\" stroke-width=\"1.5\" stroke-linecap=\"round\" stroke-linejoin=\"round\"><g fill=\"#fff\" stroke-linecap=\"butt\"><path d=\"M9 36c3.39-.97 10.11.43 13.5-2 3.39 2.43 10.11 1.03 13.5 2 0 0 1.65.54 3 2-.68.97-1.65.99-3 .5-3.39-.97-10.11.46-13.5-1-3.39 1.46-10.11.03-13.5 1-1.354.49-2.323.47-3-.5 1.354-1.94 3-2 3-2zM15 32c2.5 2.5 12.5 2.5 15 0 .5-1.5 0-2 0-2 0-2.5-2.5-4-2.5-4 5.5-1.5 6-11.5-5-15.5-11 4-10.5 14-5 15.5 0 0-2.5 1.5-2.5 4 0 0-.5.5 0 2zM25 8a2.5 2.5 0 1 1-5 0 2.5 2.5 0 1 1 5 0z\"/></g><path d=\"M17.5 26h10M15 30h15m-7.5-14.5v5M20 18h5\" stroke-linejoin=\"miter\"/></g><g id=\"black-rook\" class=\"black rook\" fill=\"#000\" fill-rule=\"evenodd\" stroke=\"#000\" stroke-width=\"1.5\" stroke-linecap=\"round\" stroke-linejoin=\"round\"><path d=\"M9 39h27v-3H9v3zM12.5 32l1.5-2.5h17l1.5 2.5h-20zM12 36v-4h21v4H12z\" stroke-linecap=\"butt\"/><path d=\"M14 29.5v-13h17v13H14z\" stroke-linecap=\"butt\" stroke-linejoin=\"miter\"/><path d=\"M14 16.5L11 14h23l-3 2.5H14zM11 14V9h4v2h5V9h5v2h5V9h4v5H11z\" stroke-linecap=\"butt\"/><path d=\"M12 35.5h21M13 31.5h19M14 29.5h17M14 16.5h17M11 14h23\" fill=\"none\" stroke=\"#fff\" stroke-width=\"1\" stroke-linejoin=\"miter\"/></g><g id=\"white-queen\" class=\"white queen\" fill=\"#fff\" fill-rule=\"evenodd\" stroke=\"#000\" stroke-width=\"1.5\" stroke-linecap=\"round\" stroke-linejoin=\"round\"><path d=\"M8 12a2 2 0 1 1-4 0 2 2 0 1 1 4 0zM24.5 7.5a2 2 0 1 1-4 0 2 2 0 1 1 4 0zM41 12a2 2 0 1 1-4 0 2 2 0 1 1 4 0zM16 8.5a2 2 0 1 1-4 0 2 2 0 1 1 4 0zM33 9a2 2 0 1 1-4 0 2 2 0 1 1 4 0z\"/><path d=\"M9 26c8.5-1.5 21-1.5 27 0l2-12-7 11V11l-5.5 13.5-3-15-3 15-5.5-14V25L7 14l2 12zM9 26c0 2 1.5 2 2.5 4 1 1.5 1 1 .5 3.5-1.5 1-1.5 2.5-1.5 2.5-1.5 1.5.5 2.5.5 2.5 6.5 1 16.5 1 23 0 0 0 1.5-1 0-2.5 0 0 .5-1.5-1-2.5-.5-2.5-.5-2 .5-3.5 1-2 2.5-2 2.5-4-8.5-1.5-18.5-1.5-27 0z\" stroke-linecap=\"butt\"/><path d=\"M11.5 30c3.5-1 18.5-1 22 0M12 33.5c6-1 15-1 21 0\" fill=\"none\"/></g><g id=\"white-knight\" class=\"white knight\" fill=\"none\" fill-rule=\"evenodd\" stroke=\"#000\" stroke-width=\"1.5\" stroke-linecap=\"round\" stroke-linejoin=\"round\"><path d=\"M 22,10 C 32.5,11 38.5,18 38,39 L 15,39 C 15,30 25,32.5 23,18\" style=\"fill:#ffffff; stroke:#000000;\"/><path d=\"M 24,18 C 24.38,20.91 18.45,25.37 16,27 C 13,29 13.18,31.34 11,31 C 9.958,30.06 12.41,27.96 11,28 C 10,28 11.19,29.23 10,30 C 9,30 5.997,31 6,26 C 6,24 12,14 12,14 C 12,14 13.89,12.1 14,10.5 C 13.27,9.506 13.5,8.5 13.5,7.5 C 14.5,6.5 16.5,10 16.5,10 L 18.5,10 C 18.5,10 19.28,8.008 21,7 C 22,7 22,10 22,10\" style=\"fill:#ffffff; stroke:#000000;\"/><path d=\"M 9.5 25.5 A 0.5 0.5 0 1 1 8.5,25.5 A 0.5 0.5 0 1 1 9.5 25.5 z\" style=\"fill:#000000; stroke:#000000;\"/><path d=\"M 15 15.5 A 0.5 1.5 0 1 1 14,15.5 A 0.5 1.5 0 1 1 15 15.5 z\" transform=\"matrix(0.866,0.5,-0.5,0.866,9.693,-5.173)\" style=\"fill:#000000; stroke:#000000;\"/></g><g id=\"white-king\" class=\"white king\" fill=\"none\" fill-rule=\"evenodd\" stroke=\"#000\" stroke-width=\"1.5\" stroke-linecap=\"round\" stroke-linejoin=\"round\"><path d=\"M22.5 11.63V6M20 8h5\" stroke-linejoin=\"miter\"/><path d=\"M22.5 25s4.5-7.5 3-10.5c0 0-1-2.5-3-2.5s-3 2.5-3 2.5c-1.5 3 3 10.5 3 10.5\" fill=\"#fff\" stroke-linecap=\"butt\" stroke-linejoin=\"miter\"/><path d=\"M11.5 37c5.5 3.5 15.5 3.5 21 0v-7s9-4.5 6-10.5c-4-6.5-13.5-3.5-16 4V27v-3.5c-3.5-7.5-13-10.5-16-4-3 6 5 10 5 10V37z\" fill=\"#fff\"/><path d=\"M11.5 30c5.5-3 15.5-3 21 0m-21 3.5c5.5-3 15.5-3 21 0m-21 3.5c5.5-3 15.5-3 21 0\"/></g><g id=\"white-pawn\" class=\"white pawn\"><path d=\"M22 9c-2.21 0-4 1.79-4 4 0 .89.29 1.71.78 2.38-1.95 1.12-3.28 3.21-3.28 5.62 0 2.03.94 3.84 2.41 5.03-3 1.06-7.41 5.55-7.41 13.47h23c0-7.92-4.41-12.41-7.41-13.47 1.47-1.19 2.41-3 2.41-5.03 0-2.41-1.33-4.5-3.28-5.62.49-.67.78-1.49.78-2.38 0-2.21-1.79-4-4-4z\" fill=\"#fff\" stroke=\"#000\" stroke-width=\"1.5\" stroke-linecap=\"round\"/></g><g id=\"black-king\" class=\"black king\" fill=\"none\" fill-rule=\"evenodd\" stroke=\"#000\" stroke-width=\"1.5\" stroke-linecap=\"round\" stroke-linejoin=\"round\"><path d=\"M22.5 11.63V6\" stroke-linejoin=\"miter\"/><path d=\"M22.5 25s4.5-7.5 3-10.5c0 0-1-2.5-3-2.5s-3 2.5-3 2.5c-1.5 3 3 10.5 3 10.5\" fill=\"#000\" stroke-linecap=\"butt\" stroke-linejoin=\"miter\"/><path d=\"M11.5 37c5.5 3.5 15.5 3.5 21 0v-7s9-4.5 6-10.5c-4-6.5-13.5-3.5-16 4V27v-3.5c-3.5-7.5-13-10.5-16-4-3 6 5 10 5 10V37z\" fill=\"#000\"/><path d=\"M20 8h5\" stroke-linejoin=\"miter\"/><path d=\"M32 29.5s8.5-4 6.03-9.65C34.15 14 25 18 22.5 24.5l.01 2.1-.01-2.1C20 18 9.906 14 6.997 19.85c-2.497 5.65 4.853 9 4.853 9M11.5 30c5.5-3 15.5-3 21 0m-21 3.5c5.5-3 15.5-3 21 0m-21 3.5c5.5-3 15.5-3 21 0\" stroke=\"#fff\"/></g><g id=\"black-pawn\" class=\"black pawn\"><path d=\"M22 9c-2.21 0-4 1.79-4 4 0 .89.29 1.71.78 2.38-1.95 1.12-3.28 3.21-3.28 5.62 0 2.03.94 3.84 2.41 5.03-3 1.06-7.41 5.55-7.41 13.47h23c0-7.92-4.41-12.41-7.41-13.47 1.47-1.19 2.41-3 2.41-5.03 0-2.41-1.33-4.5-3.28-5.62.49-.67.78-1.49.78-2.38 0-2.21-1.79-4-4-4z\" stroke=\"#000\" stroke-width=\"1.5\" stroke-linecap=\"round\"/></g><g id=\"black-bishop\" class=\"black bishop\" fill=\"none\" fill-rule=\"evenodd\" stroke=\"#000\" stroke-width=\"1.5\" stroke-linecap=\"round\" stroke-linejoin=\"round\"><path d=\"M9 36c3.39-.97 10.11.43 13.5-2 3.39 2.43 10.11 1.03 13.5 2 0 0 1.65.54 3 2-.68.97-1.65.99-3 .5-3.39-.97-10.11.46-13.5-1-3.39 1.46-10.11.03-13.5 1-1.354.49-2.323.47-3-.5 1.354-1.94 3-2 3-2zm6-4c2.5 2.5 12.5 2.5 15 0 .5-1.5 0-2 0-2 0-2.5-2.5-4-2.5-4 5.5-1.5 6-11.5-5-15.5-11 4-10.5 14-5 15.5 0 0-2.5 1.5-2.5 4 0 0-.5.5 0 2zM25 8a2.5 2.5 0 1 1-5 0 2.5 2.5 0 1 1 5 0z\" fill=\"#000\" stroke-linecap=\"butt\"/><path d=\"M17.5 26h10M15 30h15m-7.5-14.5v5M20 18h5\" stroke=\"#fff\" stroke-linejoin=\"miter\"/></g></defs><rect x=\"20.000000\" y=\"335.000000\" class=\"square dark a1\" width=\"45.000000\" height=\"45.000000\" style=\"stroke: none;\" fill=\"#d18b47\" /><rect x=\"65.000000\" y=\"335.000000\" class=\"square light b1\" width=\"45.000000\" height=\"45.000000\" style=\"stroke: none;\" fill=\"#ffce9e\" /><rect x=\"110.000000\" y=\"335.000000\" class=\"square dark c1\" width=\"45.000000\" height=\"45.000000\" style=\"stroke: none;\" fill=\"#d18b47\" /><use xlink:href=\"#white-rook\" transform=\"translate(110.000000, 335.000000) scale(1.000000 1.000000)\" /><rect x=\"155.000000\" y=\"335.000000\" class=\"square light d1\" width=\"45.000000\" height=\"45.000000\" style=\"stroke: none;\" fill=\"#ffce9e\" /><rect x=\"200.000000\" y=\"335.000000\" class=\"square dark e1\" width=\"45.000000\" height=\"45.000000\" style=\"stroke: none;\" fill=\"#d18b47\" /><rect x=\"245.000000\" y=\"335.000000\" class=\"square light f1\" width=\"45.000000\" height=\"45.000000\" style=\"stroke: none;\" fill=\"#ffce9e\" /><rect x=\"290.000000\" y=\"335.000000\" class=\"square dark g1\" width=\"45.000000\" height=\"45.000000\" style=\"stroke: none;\" fill=\"#d18b47\" /><rect x=\"335.000000\" y=\"335.000000\" class=\"square light h1\" width=\"45.000000\" height=\"45.000000\" style=\"stroke: none;\" fill=\"#ffce9e\" /><rect x=\"20.000000\" y=\"290.000000\" class=\"square light lastmove a2\" width=\"45.000000\" height=\"45.000000\" style=\"stroke: none;\" fill=\"#cdd16a\" /><use xlink:href=\"#black-pawn\" transform=\"translate(20.000000, 290.000000) scale(1.000000 1.000000)\" /><rect x=\"65.000000\" y=\"290.000000\" class=\"square dark b2\" width=\"45.000000\" height=\"45.000000\" style=\"stroke: none;\" fill=\"#d18b47\" /><rect x=\"110.000000\" y=\"290.000000\" class=\"square light c2\" width=\"45.000000\" height=\"45.000000\" style=\"stroke: none;\" fill=\"#ffce9e\" /><rect x=\"155.000000\" y=\"290.000000\" class=\"square dark d2\" width=\"45.000000\" height=\"45.000000\" style=\"stroke: none;\" fill=\"#d18b47\" /><rect x=\"200.000000\" y=\"290.000000\" class=\"square light e2\" width=\"45.000000\" height=\"45.000000\" style=\"stroke: none;\" fill=\"#ffce9e\" /><use xlink:href=\"#white-rook\" transform=\"translate(200.000000, 290.000000) scale(1.000000 1.000000)\" /><rect x=\"245.000000\" y=\"290.000000\" class=\"square dark f2\" width=\"45.000000\" height=\"45.000000\" style=\"stroke: none;\" fill=\"#d18b47\" /><rect x=\"290.000000\" y=\"290.000000\" class=\"square light g2\" width=\"45.000000\" height=\"45.000000\" style=\"stroke: none;\" fill=\"#ffce9e\" /><rect x=\"335.000000\" y=\"290.000000\" class=\"square dark h2\" width=\"45.000000\" height=\"45.000000\" style=\"stroke: none;\" fill=\"#d18b47\" /><rect x=\"20.000000\" y=\"245.000000\" class=\"square dark lastmove a3\" width=\"45.000000\" height=\"45.000000\" style=\"stroke: none;\" fill=\"#aaa23b\" /><rect x=\"65.000000\" y=\"245.000000\" class=\"square light b3\" width=\"45.000000\" height=\"45.000000\" style=\"stroke: none;\" fill=\"#ffce9e\" /><use xlink:href=\"#white-pawn\" transform=\"translate(65.000000, 245.000000) scale(1.000000 1.000000)\" /><rect x=\"110.000000\" y=\"245.000000\" class=\"square dark c3\" width=\"45.000000\" height=\"45.000000\" style=\"stroke: none;\" fill=\"#d18b47\" /><rect x=\"155.000000\" y=\"245.000000\" class=\"square light d3\" width=\"45.000000\" height=\"45.000000\" style=\"stroke: none;\" fill=\"#ffce9e\" /><use xlink:href=\"#white-king\" transform=\"translate(155.000000, 245.000000) scale(1.000000 1.000000)\" /><rect x=\"200.000000\" y=\"245.000000\" class=\"square dark e3\" width=\"45.000000\" height=\"45.000000\" style=\"stroke: none;\" fill=\"#d18b47\" /><rect x=\"245.000000\" y=\"245.000000\" class=\"square light f3\" width=\"45.000000\" height=\"45.000000\" style=\"stroke: none;\" fill=\"#ffce9e\" /><use xlink:href=\"#white-pawn\" transform=\"translate(245.000000, 245.000000) scale(1.000000 1.000000)\" /><rect x=\"290.000000\" y=\"245.000000\" class=\"square dark g3\" width=\"45.000000\" height=\"45.000000\" style=\"stroke: none;\" fill=\"#d18b47\" /><use xlink:href=\"#black-pawn\" transform=\"translate(290.000000, 245.000000) scale(1.000000 1.000000)\" /><rect x=\"335.000000\" y=\"245.000000\" class=\"square light h3\" width=\"45.000000\" height=\"45.000000\" style=\"stroke: none;\" fill=\"#ffce9e\" /><rect x=\"20.000000\" y=\"200.000000\" class=\"square light a4\" width=\"45.000000\" height=\"45.000000\" style=\"stroke: none;\" fill=\"#ffce9e\" /><rect x=\"65.000000\" y=\"200.000000\" class=\"square dark b4\" width=\"45.000000\" height=\"45.000000\" style=\"stroke: none;\" fill=\"#d18b47\" /><rect x=\"110.000000\" y=\"200.000000\" class=\"square light c4\" width=\"45.000000\" height=\"45.000000\" style=\"stroke: none;\" fill=\"#ffce9e\" /><use xlink:href=\"#white-bishop\" transform=\"translate(110.000000, 200.000000) scale(1.000000 1.000000)\" /><rect x=\"155.000000\" y=\"200.000000\" class=\"square dark d4\" width=\"45.000000\" height=\"45.000000\" style=\"stroke: none;\" fill=\"#d18b47\" /><use xlink:href=\"#white-pawn\" transform=\"translate(155.000000, 200.000000) scale(1.000000 1.000000)\" /><rect x=\"200.000000\" y=\"200.000000\" class=\"square light e4\" width=\"45.000000\" height=\"45.000000\" style=\"stroke: none;\" fill=\"#ffce9e\" /><rect x=\"245.000000\" y=\"200.000000\" class=\"square dark f4\" width=\"45.000000\" height=\"45.000000\" style=\"stroke: none;\" fill=\"#d18b47\" /><rect x=\"290.000000\" y=\"200.000000\" class=\"square light g4\" width=\"45.000000\" height=\"45.000000\" style=\"stroke: none;\" fill=\"#ffce9e\" /><use xlink:href=\"#white-pawn\" transform=\"translate(290.000000, 200.000000) scale(1.000000 1.000000)\" /><rect x=\"335.000000\" y=\"200.000000\" class=\"square dark h4\" width=\"45.000000\" height=\"45.000000\" style=\"stroke: none;\" fill=\"#d18b47\" /><rect x=\"20.000000\" y=\"155.000000\" class=\"square dark a5\" width=\"45.000000\" height=\"45.000000\" style=\"stroke: none;\" fill=\"#d18b47\" /><use xlink:href=\"#black-pawn\" transform=\"translate(20.000000, 155.000000) scale(1.000000 1.000000)\" /><rect x=\"65.000000\" y=\"155.000000\" class=\"square light b5\" width=\"45.000000\" height=\"45.000000\" style=\"stroke: none;\" fill=\"#ffce9e\" /><rect x=\"110.000000\" y=\"155.000000\" class=\"square dark c5\" width=\"45.000000\" height=\"45.000000\" style=\"stroke: none;\" fill=\"#d18b47\" /><rect x=\"155.000000\" y=\"155.000000\" class=\"square light d5\" width=\"45.000000\" height=\"45.000000\" style=\"stroke: none;\" fill=\"#ffce9e\" /><rect x=\"200.000000\" y=\"155.000000\" class=\"square dark e5\" width=\"45.000000\" height=\"45.000000\" style=\"stroke: none;\" fill=\"#d18b47\" /><use xlink:href=\"#black-pawn\" transform=\"translate(200.000000, 155.000000) scale(1.000000 1.000000)\" /><rect x=\"245.000000\" y=\"155.000000\" class=\"square light f5\" width=\"45.000000\" height=\"45.000000\" style=\"stroke: none;\" fill=\"#ffce9e\" /><rect x=\"290.000000\" y=\"155.000000\" class=\"square dark g5\" width=\"45.000000\" height=\"45.000000\" style=\"stroke: none;\" fill=\"#d18b47\" /><use xlink:href=\"#black-pawn\" transform=\"translate(290.000000, 155.000000) scale(1.000000 1.000000)\" /><rect x=\"335.000000\" y=\"155.000000\" class=\"square light h5\" width=\"45.000000\" height=\"45.000000\" style=\"stroke: none;\" fill=\"#ffce9e\" /><rect x=\"20.000000\" y=\"110.000000\" class=\"square light a6\" width=\"45.000000\" height=\"45.000000\" style=\"stroke: none;\" fill=\"#ffce9e\" /><rect x=\"65.000000\" y=\"110.000000\" class=\"square dark b6\" width=\"45.000000\" height=\"45.000000\" style=\"stroke: none;\" fill=\"#d18b47\" /><use xlink:href=\"#white-knight\" transform=\"translate(65.000000, 110.000000) scale(1.000000 1.000000)\" /><rect x=\"110.000000\" y=\"110.000000\" class=\"square light c6\" width=\"45.000000\" height=\"45.000000\" style=\"stroke: none;\" fill=\"#ffce9e\" /><rect x=\"155.000000\" y=\"110.000000\" class=\"square dark d6\" width=\"45.000000\" height=\"45.000000\" style=\"stroke: none;\" fill=\"#d18b47\" /><rect x=\"200.000000\" y=\"110.000000\" class=\"square light e6\" width=\"45.000000\" height=\"45.000000\" style=\"stroke: none;\" fill=\"#ffce9e\" /><rect x=\"245.000000\" y=\"110.000000\" class=\"square dark f6\" width=\"45.000000\" height=\"45.000000\" style=\"stroke: none;\" fill=\"#d18b47\" /><rect x=\"290.000000\" y=\"110.000000\" class=\"square light g6\" width=\"45.000000\" height=\"45.000000\" style=\"stroke: none;\" fill=\"#ffce9e\" /><rect x=\"335.000000\" y=\"110.000000\" class=\"square dark h6\" width=\"45.000000\" height=\"45.000000\" style=\"stroke: none;\" fill=\"#d18b47\" /><rect x=\"20.000000\" y=\"65.000000\" class=\"square dark a7\" width=\"45.000000\" height=\"45.000000\" style=\"stroke: none;\" fill=\"#d18b47\" /><use xlink:href=\"#black-rook\" transform=\"translate(20.000000, 65.000000) scale(1.000000 1.000000)\" /><rect x=\"65.000000\" y=\"65.000000\" class=\"square light b7\" width=\"45.000000\" height=\"45.000000\" style=\"stroke: none;\" fill=\"#ffce9e\" /><use xlink:href=\"#black-knight\" transform=\"translate(65.000000, 65.000000) scale(1.000000 1.000000)\" /><rect x=\"110.000000\" y=\"65.000000\" class=\"square dark c7\" width=\"45.000000\" height=\"45.000000\" style=\"stroke: none;\" fill=\"#d18b47\" /><use xlink:href=\"#black-rook\" transform=\"translate(110.000000, 65.000000) scale(1.000000 1.000000)\" /><rect x=\"155.000000\" y=\"65.000000\" class=\"square light d7\" width=\"45.000000\" height=\"45.000000\" style=\"stroke: none;\" fill=\"#ffce9e\" /><use xlink:href=\"#white-pawn\" transform=\"translate(155.000000, 65.000000) scale(1.000000 1.000000)\" /><rect x=\"200.000000\" y=\"65.000000\" class=\"square dark e7\" width=\"45.000000\" height=\"45.000000\" style=\"stroke: none;\" fill=\"#d18b47\" /><rect x=\"245.000000\" y=\"65.000000\" class=\"square light f7\" width=\"45.000000\" height=\"45.000000\" style=\"stroke: none;\" fill=\"#ffce9e\" /><rect x=\"290.000000\" y=\"65.000000\" class=\"square dark g7\" width=\"45.000000\" height=\"45.000000\" style=\"stroke: none;\" fill=\"#d18b47\" /><use xlink:href=\"#black-bishop\" transform=\"translate(290.000000, 65.000000) scale(1.000000 1.000000)\" /><rect x=\"335.000000\" y=\"65.000000\" class=\"square light h7\" width=\"45.000000\" height=\"45.000000\" style=\"stroke: none;\" fill=\"#ffce9e\" /><rect x=\"20.000000\" y=\"20.000000\" class=\"square light a8\" width=\"45.000000\" height=\"45.000000\" style=\"stroke: none;\" fill=\"#ffce9e\" /><rect x=\"65.000000\" y=\"20.000000\" class=\"square dark b8\" width=\"45.000000\" height=\"45.000000\" style=\"stroke: none;\" fill=\"#d18b47\" /><use xlink:href=\"#black-king\" transform=\"translate(65.000000, 20.000000) scale(1.000000 1.000000)\" /><rect x=\"110.000000\" y=\"20.000000\" class=\"square light c8\" width=\"45.000000\" height=\"45.000000\" style=\"stroke: none;\" fill=\"#ffce9e\" /><rect x=\"155.000000\" y=\"20.000000\" class=\"square dark d8\" width=\"45.000000\" height=\"45.000000\" style=\"stroke: none;\" fill=\"#d18b47\" /><rect x=\"200.000000\" y=\"20.000000\" class=\"square light e8\" width=\"45.000000\" height=\"45.000000\" style=\"stroke: none;\" fill=\"#ffce9e\" /><rect x=\"245.000000\" y=\"20.000000\" class=\"square dark f8\" width=\"45.000000\" height=\"45.000000\" style=\"stroke: none;\" fill=\"#d18b47\" /><rect x=\"290.000000\" y=\"20.000000\" class=\"square light g8\" width=\"45.000000\" height=\"45.000000\" style=\"stroke: none;\" fill=\"#ffce9e\" /><rect x=\"335.000000\" y=\"20.000000\" class=\"square dark h8\" width=\"45.000000\" height=\"45.000000\" style=\"stroke: none;\" fill=\"#d18b47\" /><text x=\"42\" y=\"10\" text-anchor=\"middle\" alignment-baseline=\"middle\" font-size=\"14\">a</text><text x=\"42\" y=\"390\" text-anchor=\"middle\" alignment-baseline=\"middle\" font-size=\"14\">a</text><text x=\"87\" y=\"10\" text-anchor=\"middle\" alignment-baseline=\"middle\" font-size=\"14\">b</text><text x=\"87\" y=\"390\" text-anchor=\"middle\" alignment-baseline=\"middle\" font-size=\"14\">b</text><text x=\"132\" y=\"10\" text-anchor=\"middle\" alignment-baseline=\"middle\" font-size=\"14\">c</text><text x=\"132\" y=\"390\" text-anchor=\"middle\" alignment-baseline=\"middle\" font-size=\"14\">c</text><text x=\"177\" y=\"10\" text-anchor=\"middle\" alignment-baseline=\"middle\" font-size=\"14\">d</text><text x=\"177\" y=\"390\" text-anchor=\"middle\" alignment-baseline=\"middle\" font-size=\"14\">d</text><text x=\"222\" y=\"10\" text-anchor=\"middle\" alignment-baseline=\"middle\" font-size=\"14\">e</text><text x=\"222\" y=\"390\" text-anchor=\"middle\" alignment-baseline=\"middle\" font-size=\"14\">e</text><text x=\"267\" y=\"10\" text-anchor=\"middle\" alignment-baseline=\"middle\" font-size=\"14\">f</text><text x=\"267\" y=\"390\" text-anchor=\"middle\" alignment-baseline=\"middle\" font-size=\"14\">f</text><text x=\"312\" y=\"10\" text-anchor=\"middle\" alignment-baseline=\"middle\" font-size=\"14\">g</text><text x=\"312\" y=\"390\" text-anchor=\"middle\" alignment-baseline=\"middle\" font-size=\"14\">g</text><text x=\"357\" y=\"10\" text-anchor=\"middle\" alignment-baseline=\"middle\" font-size=\"14\">h</text><text x=\"357\" y=\"390\" text-anchor=\"middle\" alignment-baseline=\"middle\" font-size=\"14\">h</text><text x=\"10\" y=\"357\" text-anchor=\"middle\" alignment-baseline=\"middle\" font-size=\"14\">1</text><text x=\"390\" y=\"357\" text-anchor=\"middle\" alignment-baseline=\"middle\" font-size=\"14\">1</text><text x=\"10\" y=\"312\" text-anchor=\"middle\" alignment-baseline=\"middle\" font-size=\"14\">2</text><text x=\"390\" y=\"312\" text-anchor=\"middle\" alignment-baseline=\"middle\" font-size=\"14\">2</text><text x=\"10\" y=\"267\" text-anchor=\"middle\" alignment-baseline=\"middle\" font-size=\"14\">3</text><text x=\"390\" y=\"267\" text-anchor=\"middle\" alignment-baseline=\"middle\" font-size=\"14\">3</text><text x=\"10\" y=\"222\" text-anchor=\"middle\" alignment-baseline=\"middle\" font-size=\"14\">4</text><text x=\"390\" y=\"222\" text-anchor=\"middle\" alignment-baseline=\"middle\" font-size=\"14\">4</text><text x=\"10\" y=\"177\" text-anchor=\"middle\" alignment-baseline=\"middle\" font-size=\"14\">5</text><text x=\"390\" y=\"177\" text-anchor=\"middle\" alignment-baseline=\"middle\" font-size=\"14\">5</text><text x=\"10\" y=\"132\" text-anchor=\"middle\" alignment-baseline=\"middle\" font-size=\"14\">6</text><text x=\"390\" y=\"132\" text-anchor=\"middle\" alignment-baseline=\"middle\" font-size=\"14\">6</text><text x=\"10\" y=\"87\" text-anchor=\"middle\" alignment-baseline=\"middle\" font-size=\"14\">7</text><text x=\"390\" y=\"87\" text-anchor=\"middle\" alignment-baseline=\"middle\" font-size=\"14\">7</text><text x=\"10\" y=\"42\" text-anchor=\"middle\" alignment-baseline=\"middle\" font-size=\"14\">8</text><text x=\"390\" y=\"42\" text-anchor=\"middle\" alignment-baseline=\"middle\" font-size=\"14\">8</text></svg>"
      ],
      "text/plain": [
       "Board('1k6/rnrP2b1/1N6/p3p1p1/2BP2P1/1P1K1Pp1/p3R3/2R5 w - - 0 51')"
      ]
     },
     "execution_count": 16,
     "metadata": {},
     "output_type": "execute_result"
    }
   ],
   "source": [
    "board = chess.Board()\n",
    "\n",
    "num_moves = 100\n",
    "\n",
    "for i in range(0, num_moves):\n",
    "    print('Move Number:', i)\n",
    "\n",
    "    # get current actions\n",
    "    a = list(board.legal_moves)\n",
    "    #print(a)\n",
    "    \n",
    "    # get current pieces\n",
    "    p = get_pieces(board)\n",
    "    #print(p)\n",
    "    \n",
    "    # get current reward\n",
    "    r = get_cur_reward(p, v)\n",
    "    print(r)\n",
    "    \n",
    "    # Choose random player move from current possibilities\n",
    "    player_action = a[random.randrange(0, len(a))]\n",
    "    \n",
    "    board.push(player_action)\n",
    "    \n",
    "    \n",
    "    print('Player Action:', player_action)\n",
    "    print('b_score', r[0], 'w_score', r[1])\n",
    "    \n",
    "    if board.is_stalemate() or board.is_insufficient_material():\n",
    "        print('STALEMATE!!!! Nobody Wins, but you are still alive!')\n",
    "        \n",
    "    if board.is_game_over():\n",
    "        print('GAME OVER!!!')\n",
    "        break\n",
    "\n",
    "        \n",
    "board"
   ]
  },
  {
   "cell_type": "code",
   "execution_count": 17,
   "metadata": {
    "collapsed": false
   },
   "outputs": [
    {
     "name": "stdout",
     "output_type": "stream",
     "text": [
      "Help on package pandas:\n",
      "\n",
      "NAME\n",
      "    pandas\n",
      "\n",
      "DESCRIPTION\n",
      "    pandas - a powerful data analysis and manipulation library for Python\n",
      "    =====================================================================\n",
      "    \n",
      "    **pandas** is a Python package providing fast, flexible, and expressive data\n",
      "    structures designed to make working with \"relational\" or \"labeled\" data both\n",
      "    easy and intuitive. It aims to be the fundamental high-level building block for\n",
      "    doing practical, **real world** data analysis in Python. Additionally, it has\n",
      "    the broader goal of becoming **the most powerful and flexible open source data\n",
      "    analysis / manipulation tool available in any language**. It is already well on\n",
      "    its way toward this goal.\n",
      "    \n",
      "    Main Features\n",
      "    -------------\n",
      "    Here are just a few of the things that pandas does well:\n",
      "    \n",
      "      - Easy handling of missing data in floating point as well as non-floating\n",
      "        point data\n",
      "      - Size mutability: columns can be inserted and deleted from DataFrame and\n",
      "        higher dimensional objects\n",
      "      - Automatic and explicit data alignment: objects can  be explicitly aligned\n",
      "        to a set of labels, or the user can simply ignore the labels and let\n",
      "        `Series`, `DataFrame`, etc. automatically align the data for you in\n",
      "        computations\n",
      "      - Powerful, flexible group by functionality to perform split-apply-combine\n",
      "        operations on data sets, for both aggregating and transforming data\n",
      "      - Make it easy to convert ragged, differently-indexed data in other Python\n",
      "        and NumPy data structures into DataFrame objects\n",
      "      - Intelligent label-based slicing, fancy indexing, and subsetting of large\n",
      "        data sets\n",
      "      - Intuitive merging and joining data sets\n",
      "      - Flexible reshaping and pivoting of data sets\n",
      "      - Hierarchical labeling of axes (possible to have multiple labels per tick)\n",
      "      - Robust IO tools for loading data from flat files (CSV and delimited),\n",
      "        Excel files, databases, and saving/loading data from the ultrafast HDF5\n",
      "        format\n",
      "      - Time series-specific functionality: date range generation and frequency\n",
      "        conversion, moving window statistics, moving window linear regressions,\n",
      "        date shifting and lagging, etc.\n",
      "\n",
      "PACKAGE CONTENTS\n",
      "    _libs (package)\n",
      "    _version\n",
      "    api (package)\n",
      "    compat (package)\n",
      "    computation (package)\n",
      "    conftest\n",
      "    core (package)\n",
      "    errors (package)\n",
      "    formats (package)\n",
      "    io (package)\n",
      "    json\n",
      "    lib\n",
      "    parser\n",
      "    plotting (package)\n",
      "    stats (package)\n",
      "    testing\n",
      "    tests (package)\n",
      "    tools (package)\n",
      "    tseries (package)\n",
      "    tslib\n",
      "    types (package)\n",
      "    util (package)\n",
      "\n",
      "SUBMODULES\n",
      "    _hashtable\n",
      "    _lib\n",
      "    _tslib\n",
      "    offsets\n",
      "\n",
      "DATA\n",
      "    IndexSlice = <pandas.core.indexing._IndexSlice object>\n",
      "    NaT = NaT\n",
      "    __docformat__ = 'restructuredtext'\n",
      "    datetools = <module 'pandas.core.datetools' from 'c:\\\\dev\\\\p...\\lib\\\\s...\n",
      "    describe_option = <pandas.core.config.CallableDynamicDoc object>\n",
      "    get_option = <pandas.core.config.CallableDynamicDoc object>\n",
      "    json = <module 'pandas.json' from 'c:\\\\dev\\\\python\\\\virtualenvs\\\\ds\\\\l...\n",
      "    lib = <module 'pandas.lib' from 'c:\\\\dev\\\\python\\\\virtualenvs\\\\ds\\\\lib...\n",
      "    options = <pandas.core.config.DictWrapper object>\n",
      "    parser = <module 'pandas.parser' from 'c:\\\\dev\\\\python\\\\v...envs\\\\ds\\\\...\n",
      "    plot_params = {'xaxis.compat': False}\n",
      "    reset_option = <pandas.core.config.CallableDynamicDoc object>\n",
      "    set_option = <pandas.core.config.CallableDynamicDoc object>\n",
      "    tslib = <module 'pandas.tslib' from 'c:\\\\dev\\\\python\\\\vi...lenvs\\\\ds\\\\...\n",
      "\n",
      "VERSION\n",
      "    0.20.1\n",
      "\n",
      "FILE\n",
      "    c:\\dev\\python\\virtualenvs\\ds\\lib\\site-packages\\pandas\\__init__.py\n",
      "\n",
      "\n"
     ]
    }
   ],
   "source": [
    "help(pd)"
   ]
  },
  {
   "cell_type": "code",
   "execution_count": null,
   "metadata": {
    "collapsed": true
   },
   "outputs": [],
   "source": []
  }
 ],
 "metadata": {
  "kernelspec": {
   "display_name": "Python 3",
   "language": "python",
   "name": "python3"
  },
  "language_info": {
   "codemirror_mode": {
    "name": "ipython",
    "version": 3
   },
   "file_extension": ".py",
   "mimetype": "text/x-python",
   "name": "python",
   "nbconvert_exporter": "python",
   "pygments_lexer": "ipython3",
   "version": "3.5.2"
  }
 },
 "nbformat": 4,
 "nbformat_minor": 1
}
